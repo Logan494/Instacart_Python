{
 "cells": [
  {
   "cell_type": "markdown",
   "id": "d0c3970c",
   "metadata": {},
   "source": [
    "#01. Importing libraries"
   ]
  },
  {
   "cell_type": "code",
   "execution_count": 1,
   "id": "249895c6",
   "metadata": {},
   "outputs": [],
   "source": [
    "# import libraries\n",
    "import pandas as pd\n",
    "import numpy as np\n",
    "import os"
   ]
  },
  {
   "cell_type": "markdown",
   "id": "4eba9df7",
   "metadata": {},
   "source": [
    "#02. Python Data Types"
   ]
  },
  {
   "cell_type": "code",
   "execution_count": 5,
   "id": "0bca3d6c",
   "metadata": {},
   "outputs": [],
   "source": [
    "x = 25\n",
    "y = 35\n",
    "z = 40"
   ]
  },
  {
   "cell_type": "code",
   "execution_count": 6,
   "id": "c554eaf7",
   "metadata": {},
   "outputs": [
    {
     "data": {
      "text/plain": [
       "100"
      ]
     },
     "execution_count": 6,
     "metadata": {},
     "output_type": "execute_result"
    }
   ],
   "source": [
    "x + y + z"
   ]
  },
  {
   "cell_type": "code",
   "execution_count": 8,
   "id": "4e8260fe",
   "metadata": {},
   "outputs": [],
   "source": [
    "x = 200\n",
    "y = 70\n",
    "z = 30"
   ]
  },
  {
   "cell_type": "code",
   "execution_count": 9,
   "id": "f0f72a97",
   "metadata": {},
   "outputs": [
    {
     "data": {
      "text/plain": [
       "100"
      ]
     },
     "execution_count": 9,
     "metadata": {},
     "output_type": "execute_result"
    }
   ],
   "source": [
    "x - y - z"
   ]
  },
  {
   "cell_type": "code",
   "execution_count": 14,
   "id": "4cee5b4b",
   "metadata": {},
   "outputs": [],
   "source": [
    "x = 60\n",
    "y = 50\n",
    "z = 10"
   ]
  },
  {
   "cell_type": "code",
   "execution_count": 15,
   "id": "47821cdc",
   "metadata": {},
   "outputs": [
    {
     "data": {
      "text/plain": [
       "100"
      ]
     },
     "execution_count": 15,
     "metadata": {},
     "output_type": "execute_result"
    }
   ],
   "source": [
    "x + y - z"
   ]
  },
  {
   "cell_type": "code",
   "execution_count": 16,
   "id": "521ad5aa",
   "metadata": {},
   "outputs": [],
   "source": [
    "x = 1.5\n",
    "y = 0.78263478623"
   ]
  },
  {
   "cell_type": "code",
   "execution_count": 17,
   "id": "b3e8f725",
   "metadata": {},
   "outputs": [
    {
     "data": {
      "text/plain": [
       "1.916602771039085"
      ]
     },
     "execution_count": 17,
     "metadata": {},
     "output_type": "execute_result"
    }
   ],
   "source": [
    "x / y"
   ]
  },
  {
   "cell_type": "code",
   "execution_count": 20,
   "id": "8188ad9d",
   "metadata": {},
   "outputs": [],
   "source": [
    "a = 'it smells like '\n",
    "b = 'updog in here. '\n",
    "c = \"what's \"\n",
    "d = 'updog? '\n",
    "e = 'not much '\n",
    "f = \"what's going on with you?\""
   ]
  },
  {
   "cell_type": "code",
   "execution_count": 21,
   "id": "0dc7cf39",
   "metadata": {},
   "outputs": [
    {
     "data": {
      "text/plain": [
       "\"it smells like updog in here. what's updog? not much what's going on with you?\""
      ]
     },
     "execution_count": 21,
     "metadata": {},
     "output_type": "execute_result"
    }
   ],
   "source": [
    "a + b + c + d + e + f"
   ]
  },
  {
   "cell_type": "code",
   "execution_count": null,
   "id": "5874ef3b",
   "metadata": {},
   "outputs": [],
   "source": []
  }
 ],
 "metadata": {
  "kernelspec": {
   "display_name": "Python 3 (ipykernel)",
   "language": "python",
   "name": "python3"
  },
  "language_info": {
   "codemirror_mode": {
    "name": "ipython",
    "version": 3
   },
   "file_extension": ".py",
   "mimetype": "text/x-python",
   "name": "python",
   "nbconvert_exporter": "python",
   "pygments_lexer": "ipython3",
   "version": "3.11.5"
  }
 },
 "nbformat": 4,
 "nbformat_minor": 5
}
