{
 "cells": [
  {
   "cell_type": "code",
   "execution_count": 1,
   "id": "9ea47bb1",
   "metadata": {},
   "outputs": [],
   "source": [
    "#importing libraries\n",
    "import pandas as pd\n",
    "import numpy as np\n",
    "import os\n",
    "import matplotlib.pyplot as plt\n",
    "import seaborn as sns\n",
    "import scipy"
   ]
  },
  {
   "cell_type": "markdown",
   "id": "89a41eba",
   "metadata": {},
   "source": [
    "# Work"
   ]
  },
  {
   "cell_type": "code",
   "execution_count": 2,
   "id": "d5ba1b7b",
   "metadata": {},
   "outputs": [],
   "source": [
    "#creathing path\n",
    "path = r\"C:\\Users\\logan\\Downloads\\CareerFoundry\\Instacart Basket Analysis\""
   ]
  },
  {
   "cell_type": "code",
   "execution_count": 3,
   "id": "dd4ce29a",
   "metadata": {},
   "outputs": [],
   "source": [
    "#loading data\n",
    "df = pd.read_pickle(os.path.join(path, '02 Data', 'Prepared Data', 'merged_dataframe 4.91.pkl'))"
   ]
  },
  {
   "cell_type": "code",
   "execution_count": 4,
   "id": "c110ef6c",
   "metadata": {},
   "outputs": [
    {
     "data": {
      "text/plain": [
       "(32434212, 31)"
      ]
     },
     "execution_count": 4,
     "metadata": {},
     "output_type": "execute_result"
    }
   ],
   "source": [
    "#checking data\n",
    "df.shape"
   ]
  },
  {
   "cell_type": "code",
   "execution_count": 5,
   "id": "c79d7fc0",
   "metadata": {},
   "outputs": [
    {
     "name": "stdout",
     "output_type": "stream",
     "text": [
      "<class 'pandas.core.frame.DataFrame'>\n",
      "RangeIndex: 32434212 entries, 0 to 32434211\n",
      "Data columns (total 31 columns):\n",
      " #   Column                  Dtype         \n",
      "---  ------                  -----         \n",
      " 0   product_id              int64         \n",
      " 1   product_name            object        \n",
      " 2   aisle_id                int64         \n",
      " 3   department_id           int64         \n",
      " 4   prices                  float64       \n",
      " 5   order_id                int64         \n",
      " 6   user_id                 object        \n",
      " 7   order_number            int64         \n",
      " 8   orders_day_of_week      int64         \n",
      " 9   order_hour_of_day       int64         \n",
      " 10  days_since_prior_order  float64       \n",
      " 11  add_to_cart_order       int64         \n",
      " 12  reordered               int64         \n",
      " 13  price_range_loc         object        \n",
      " 14  busiest_day             object        \n",
      " 15  busiest_period_of_day   object        \n",
      " 16  max_order               int64         \n",
      " 17  loyalty_flag            object        \n",
      " 18  average_price           float64       \n",
      " 19  spending_habit          object        \n",
      " 20  median_orders           float64       \n",
      " 21  order_frequency_flag    object        \n",
      " 22  First Name              object        \n",
      " 23  Last Name               object        \n",
      " 24  Gender                  object        \n",
      " 25  State                   object        \n",
      " 26  Age                     int64         \n",
      " 27  date_joined             datetime64[ns]\n",
      " 28  dependents              int64         \n",
      " 29  fam_status              object        \n",
      " 30  income                  int64         \n",
      "dtypes: datetime64[ns](1), float64(4), int64(13), object(13)\n",
      "memory usage: 7.5+ GB\n"
     ]
    }
   ],
   "source": [
    "df.info()"
   ]
  },
  {
   "cell_type": "code",
   "execution_count": 6,
   "id": "44d30dd0",
   "metadata": {},
   "outputs": [],
   "source": [
    "df['product_id'] = df['product_id'].astype('str')"
   ]
  },
  {
   "cell_type": "code",
   "execution_count": 7,
   "id": "07ac8ae9",
   "metadata": {},
   "outputs": [
    {
     "name": "stdout",
     "output_type": "stream",
     "text": [
      "<class 'pandas.core.frame.DataFrame'>\n",
      "RangeIndex: 32434212 entries, 0 to 32434211\n",
      "Data columns (total 31 columns):\n",
      " #   Column                  Dtype         \n",
      "---  ------                  -----         \n",
      " 0   product_id              object        \n",
      " 1   product_name            object        \n",
      " 2   aisle_id                int64         \n",
      " 3   department_id           int64         \n",
      " 4   prices                  float64       \n",
      " 5   order_id                int64         \n",
      " 6   user_id                 object        \n",
      " 7   order_number            int64         \n",
      " 8   orders_day_of_week      int64         \n",
      " 9   order_hour_of_day       int64         \n",
      " 10  days_since_prior_order  float64       \n",
      " 11  add_to_cart_order       int64         \n",
      " 12  reordered               int64         \n",
      " 13  price_range_loc         object        \n",
      " 14  busiest_day             object        \n",
      " 15  busiest_period_of_day   object        \n",
      " 16  max_order               int64         \n",
      " 17  loyalty_flag            object        \n",
      " 18  average_price           float64       \n",
      " 19  spending_habit          object        \n",
      " 20  median_orders           float64       \n",
      " 21  order_frequency_flag    object        \n",
      " 22  First Name              object        \n",
      " 23  Last Name               object        \n",
      " 24  Gender                  object        \n",
      " 25  State                   object        \n",
      " 26  Age                     int64         \n",
      " 27  date_joined             datetime64[ns]\n",
      " 28  dependents              int64         \n",
      " 29  fam_status              object        \n",
      " 30  income                  int64         \n",
      "dtypes: datetime64[ns](1), float64(4), int64(12), object(14)\n",
      "memory usage: 7.5+ GB\n"
     ]
    }
   ],
   "source": [
    "df.info()"
   ]
  },
  {
   "cell_type": "code",
   "execution_count": 8,
   "id": "fc8d144f",
   "metadata": {},
   "outputs": [
    {
     "data": {
      "text/html": [
       "<div>\n",
       "<style scoped>\n",
       "    .dataframe tbody tr th:only-of-type {\n",
       "        vertical-align: middle;\n",
       "    }\n",
       "\n",
       "    .dataframe tbody tr th {\n",
       "        vertical-align: top;\n",
       "    }\n",
       "\n",
       "    .dataframe thead th {\n",
       "        text-align: right;\n",
       "    }\n",
       "</style>\n",
       "<table border=\"1\" class=\"dataframe\">\n",
       "  <thead>\n",
       "    <tr style=\"text-align: right;\">\n",
       "      <th></th>\n",
       "      <th>product_id</th>\n",
       "      <th>product_name</th>\n",
       "      <th>aisle_id</th>\n",
       "      <th>department_id</th>\n",
       "      <th>prices</th>\n",
       "      <th>order_id</th>\n",
       "      <th>user_id</th>\n",
       "      <th>order_number</th>\n",
       "      <th>orders_day_of_week</th>\n",
       "      <th>order_hour_of_day</th>\n",
       "      <th>...</th>\n",
       "      <th>order_frequency_flag</th>\n",
       "      <th>First Name</th>\n",
       "      <th>Last Name</th>\n",
       "      <th>Gender</th>\n",
       "      <th>State</th>\n",
       "      <th>Age</th>\n",
       "      <th>date_joined</th>\n",
       "      <th>dependents</th>\n",
       "      <th>fam_status</th>\n",
       "      <th>income</th>\n",
       "    </tr>\n",
       "  </thead>\n",
       "  <tbody>\n",
       "    <tr>\n",
       "      <th>0</th>\n",
       "      <td>1</td>\n",
       "      <td>Chocolate Sandwich Cookies</td>\n",
       "      <td>61</td>\n",
       "      <td>19</td>\n",
       "      <td>5.8</td>\n",
       "      <td>3139998</td>\n",
       "      <td>138</td>\n",
       "      <td>28</td>\n",
       "      <td>6</td>\n",
       "      <td>11</td>\n",
       "      <td>...</td>\n",
       "      <td>Frequent customer</td>\n",
       "      <td>Charles</td>\n",
       "      <td>Cox</td>\n",
       "      <td>Male</td>\n",
       "      <td>Minnesota</td>\n",
       "      <td>81</td>\n",
       "      <td>2019-08-01</td>\n",
       "      <td>1</td>\n",
       "      <td>married</td>\n",
       "      <td>49620</td>\n",
       "    </tr>\n",
       "    <tr>\n",
       "      <th>1</th>\n",
       "      <td>1</td>\n",
       "      <td>Chocolate Sandwich Cookies</td>\n",
       "      <td>61</td>\n",
       "      <td>19</td>\n",
       "      <td>5.8</td>\n",
       "      <td>1977647</td>\n",
       "      <td>138</td>\n",
       "      <td>30</td>\n",
       "      <td>6</td>\n",
       "      <td>17</td>\n",
       "      <td>...</td>\n",
       "      <td>Frequent customer</td>\n",
       "      <td>Charles</td>\n",
       "      <td>Cox</td>\n",
       "      <td>Male</td>\n",
       "      <td>Minnesota</td>\n",
       "      <td>81</td>\n",
       "      <td>2019-08-01</td>\n",
       "      <td>1</td>\n",
       "      <td>married</td>\n",
       "      <td>49620</td>\n",
       "    </tr>\n",
       "    <tr>\n",
       "      <th>2</th>\n",
       "      <td>907</td>\n",
       "      <td>Premium Sliced Bacon</td>\n",
       "      <td>106</td>\n",
       "      <td>12</td>\n",
       "      <td>20.0</td>\n",
       "      <td>3160996</td>\n",
       "      <td>138</td>\n",
       "      <td>1</td>\n",
       "      <td>5</td>\n",
       "      <td>13</td>\n",
       "      <td>...</td>\n",
       "      <td>Frequent customer</td>\n",
       "      <td>Charles</td>\n",
       "      <td>Cox</td>\n",
       "      <td>Male</td>\n",
       "      <td>Minnesota</td>\n",
       "      <td>81</td>\n",
       "      <td>2019-08-01</td>\n",
       "      <td>1</td>\n",
       "      <td>married</td>\n",
       "      <td>49620</td>\n",
       "    </tr>\n",
       "    <tr>\n",
       "      <th>3</th>\n",
       "      <td>907</td>\n",
       "      <td>Premium Sliced Bacon</td>\n",
       "      <td>106</td>\n",
       "      <td>12</td>\n",
       "      <td>20.0</td>\n",
       "      <td>2254091</td>\n",
       "      <td>138</td>\n",
       "      <td>10</td>\n",
       "      <td>5</td>\n",
       "      <td>14</td>\n",
       "      <td>...</td>\n",
       "      <td>Frequent customer</td>\n",
       "      <td>Charles</td>\n",
       "      <td>Cox</td>\n",
       "      <td>Male</td>\n",
       "      <td>Minnesota</td>\n",
       "      <td>81</td>\n",
       "      <td>2019-08-01</td>\n",
       "      <td>1</td>\n",
       "      <td>married</td>\n",
       "      <td>49620</td>\n",
       "    </tr>\n",
       "    <tr>\n",
       "      <th>4</th>\n",
       "      <td>1000</td>\n",
       "      <td>Apricots</td>\n",
       "      <td>18</td>\n",
       "      <td>10</td>\n",
       "      <td>12.9</td>\n",
       "      <td>505689</td>\n",
       "      <td>138</td>\n",
       "      <td>9</td>\n",
       "      <td>6</td>\n",
       "      <td>12</td>\n",
       "      <td>...</td>\n",
       "      <td>Frequent customer</td>\n",
       "      <td>Charles</td>\n",
       "      <td>Cox</td>\n",
       "      <td>Male</td>\n",
       "      <td>Minnesota</td>\n",
       "      <td>81</td>\n",
       "      <td>2019-08-01</td>\n",
       "      <td>1</td>\n",
       "      <td>married</td>\n",
       "      <td>49620</td>\n",
       "    </tr>\n",
       "    <tr>\n",
       "      <th>5</th>\n",
       "      <td>3265</td>\n",
       "      <td>Mini Seedless Watermelon Pack</td>\n",
       "      <td>32</td>\n",
       "      <td>4</td>\n",
       "      <td>1.7</td>\n",
       "      <td>960220</td>\n",
       "      <td>138</td>\n",
       "      <td>17</td>\n",
       "      <td>5</td>\n",
       "      <td>14</td>\n",
       "      <td>...</td>\n",
       "      <td>Frequent customer</td>\n",
       "      <td>Charles</td>\n",
       "      <td>Cox</td>\n",
       "      <td>Male</td>\n",
       "      <td>Minnesota</td>\n",
       "      <td>81</td>\n",
       "      <td>2019-08-01</td>\n",
       "      <td>1</td>\n",
       "      <td>married</td>\n",
       "      <td>49620</td>\n",
       "    </tr>\n",
       "    <tr>\n",
       "      <th>6</th>\n",
       "      <td>4913</td>\n",
       "      <td>Table Water Crackers</td>\n",
       "      <td>78</td>\n",
       "      <td>19</td>\n",
       "      <td>4.4</td>\n",
       "      <td>894221</td>\n",
       "      <td>138</td>\n",
       "      <td>23</td>\n",
       "      <td>5</td>\n",
       "      <td>13</td>\n",
       "      <td>...</td>\n",
       "      <td>Frequent customer</td>\n",
       "      <td>Charles</td>\n",
       "      <td>Cox</td>\n",
       "      <td>Male</td>\n",
       "      <td>Minnesota</td>\n",
       "      <td>81</td>\n",
       "      <td>2019-08-01</td>\n",
       "      <td>1</td>\n",
       "      <td>married</td>\n",
       "      <td>49620</td>\n",
       "    </tr>\n",
       "    <tr>\n",
       "      <th>7</th>\n",
       "      <td>6184</td>\n",
       "      <td>Clementines</td>\n",
       "      <td>32</td>\n",
       "      <td>4</td>\n",
       "      <td>4.3</td>\n",
       "      <td>1977647</td>\n",
       "      <td>138</td>\n",
       "      <td>30</td>\n",
       "      <td>6</td>\n",
       "      <td>17</td>\n",
       "      <td>...</td>\n",
       "      <td>Frequent customer</td>\n",
       "      <td>Charles</td>\n",
       "      <td>Cox</td>\n",
       "      <td>Male</td>\n",
       "      <td>Minnesota</td>\n",
       "      <td>81</td>\n",
       "      <td>2019-08-01</td>\n",
       "      <td>1</td>\n",
       "      <td>married</td>\n",
       "      <td>49620</td>\n",
       "    </tr>\n",
       "    <tr>\n",
       "      <th>8</th>\n",
       "      <td>6901</td>\n",
       "      <td>Raisin Bran</td>\n",
       "      <td>121</td>\n",
       "      <td>14</td>\n",
       "      <td>2.9</td>\n",
       "      <td>1154289</td>\n",
       "      <td>138</td>\n",
       "      <td>18</td>\n",
       "      <td>1</td>\n",
       "      <td>7</td>\n",
       "      <td>...</td>\n",
       "      <td>Frequent customer</td>\n",
       "      <td>Charles</td>\n",
       "      <td>Cox</td>\n",
       "      <td>Male</td>\n",
       "      <td>Minnesota</td>\n",
       "      <td>81</td>\n",
       "      <td>2019-08-01</td>\n",
       "      <td>1</td>\n",
       "      <td>married</td>\n",
       "      <td>49620</td>\n",
       "    </tr>\n",
       "    <tr>\n",
       "      <th>9</th>\n",
       "      <td>7147</td>\n",
       "      <td>Classic Baby Creamers Potatoes</td>\n",
       "      <td>83</td>\n",
       "      <td>4</td>\n",
       "      <td>9.0</td>\n",
       "      <td>930730</td>\n",
       "      <td>138</td>\n",
       "      <td>2</td>\n",
       "      <td>0</td>\n",
       "      <td>12</td>\n",
       "      <td>...</td>\n",
       "      <td>Frequent customer</td>\n",
       "      <td>Charles</td>\n",
       "      <td>Cox</td>\n",
       "      <td>Male</td>\n",
       "      <td>Minnesota</td>\n",
       "      <td>81</td>\n",
       "      <td>2019-08-01</td>\n",
       "      <td>1</td>\n",
       "      <td>married</td>\n",
       "      <td>49620</td>\n",
       "    </tr>\n",
       "  </tbody>\n",
       "</table>\n",
       "<p>10 rows × 31 columns</p>\n",
       "</div>"
      ],
      "text/plain": [
       "  product_id                    product_name  aisle_id  department_id  prices  \\\n",
       "0          1      Chocolate Sandwich Cookies        61             19     5.8   \n",
       "1          1      Chocolate Sandwich Cookies        61             19     5.8   \n",
       "2        907            Premium Sliced Bacon       106             12    20.0   \n",
       "3        907            Premium Sliced Bacon       106             12    20.0   \n",
       "4       1000                        Apricots        18             10    12.9   \n",
       "5       3265   Mini Seedless Watermelon Pack        32              4     1.7   \n",
       "6       4913            Table Water Crackers        78             19     4.4   \n",
       "7       6184                     Clementines        32              4     4.3   \n",
       "8       6901                     Raisin Bran       121             14     2.9   \n",
       "9       7147  Classic Baby Creamers Potatoes        83              4     9.0   \n",
       "\n",
       "   order_id user_id  order_number  orders_day_of_week  order_hour_of_day  ...  \\\n",
       "0   3139998     138            28                   6                 11  ...   \n",
       "1   1977647     138            30                   6                 17  ...   \n",
       "2   3160996     138             1                   5                 13  ...   \n",
       "3   2254091     138            10                   5                 14  ...   \n",
       "4    505689     138             9                   6                 12  ...   \n",
       "5    960220     138            17                   5                 14  ...   \n",
       "6    894221     138            23                   5                 13  ...   \n",
       "7   1977647     138            30                   6                 17  ...   \n",
       "8   1154289     138            18                   1                  7  ...   \n",
       "9    930730     138             2                   0                 12  ...   \n",
       "\n",
       "   order_frequency_flag  First Name  Last Name Gender      State Age  \\\n",
       "0     Frequent customer     Charles        Cox   Male  Minnesota  81   \n",
       "1     Frequent customer     Charles        Cox   Male  Minnesota  81   \n",
       "2     Frequent customer     Charles        Cox   Male  Minnesota  81   \n",
       "3     Frequent customer     Charles        Cox   Male  Minnesota  81   \n",
       "4     Frequent customer     Charles        Cox   Male  Minnesota  81   \n",
       "5     Frequent customer     Charles        Cox   Male  Minnesota  81   \n",
       "6     Frequent customer     Charles        Cox   Male  Minnesota  81   \n",
       "7     Frequent customer     Charles        Cox   Male  Minnesota  81   \n",
       "8     Frequent customer     Charles        Cox   Male  Minnesota  81   \n",
       "9     Frequent customer     Charles        Cox   Male  Minnesota  81   \n",
       "\n",
       "   date_joined dependents  fam_status income  \n",
       "0   2019-08-01          1     married  49620  \n",
       "1   2019-08-01          1     married  49620  \n",
       "2   2019-08-01          1     married  49620  \n",
       "3   2019-08-01          1     married  49620  \n",
       "4   2019-08-01          1     married  49620  \n",
       "5   2019-08-01          1     married  49620  \n",
       "6   2019-08-01          1     married  49620  \n",
       "7   2019-08-01          1     married  49620  \n",
       "8   2019-08-01          1     married  49620  \n",
       "9   2019-08-01          1     married  49620  \n",
       "\n",
       "[10 rows x 31 columns]"
      ]
     },
     "execution_count": 8,
     "metadata": {},
     "output_type": "execute_result"
    }
   ],
   "source": [
    "df.head(10)"
   ]
  },
  {
   "cell_type": "code",
   "execution_count": 9,
   "id": "4500d73a",
   "metadata": {},
   "outputs": [
    {
     "data": {
      "image/png": "[encoded data removed]",
      "text/plain": [
       "<Figure size 640x480 with 1 Axes>"
      ]
     },
     "metadata": {},
     "output_type": "display_data"
    }
   ],
   "source": [
    "#creating bar chart\n",
    "DOW_bar = df['orders_day_of_week'].value_counts().plot.bar()"
   ]
  },
  {
   "cell_type": "code",
   "execution_count": 10,
   "id": "22197634",
   "metadata": {},
   "outputs": [],
   "source": [
    "DOW_bar.figure.savefig(os.path.join(path, '04 Analysis','Visualizations', 'DOW_bar.png'))"
   ]
  },
  {
   "cell_type": "code",
   "execution_count": 11,
   "id": "b666db50",
   "metadata": {},
   "outputs": [
    {
     "data": {
      "image/png": "[encoded data removed]",
      "text/plain": [
       "<Figure size 640x480 with 1 Axes>"
      ]
     },
     "metadata": {},
     "output_type": "display_data"
    }
   ],
   "source": [
    "#creatring histogram\n",
    "df_HIST = df['prices'].plot.hist(bins = 25)"
   ]
  },
  {
   "cell_type": "code",
   "execution_count": 12,
   "id": "26989565",
   "metadata": {},
   "outputs": [],
   "source": [
    "df_HIST.figure.savefig(os.path.join(path, '04 Analysis','Visualizations', 'df_HIST.png'))"
   ]
  },
  {
   "cell_type": "code",
   "execution_count": 13,
   "id": "395df624",
   "metadata": {},
   "outputs": [
    {
     "name": "stderr",
     "output_type": "stream",
     "text": [
      "C:\\Users\\logan\\anaconda3\\Lib\\site-packages\\seaborn\\_oldcore.py:1498: FutureWarning: is_categorical_dtype is deprecated and will be removed in a future version. Use isinstance(dtype, CategoricalDtype) instead\n",
      "  if pd.api.types.is_categorical_dtype(vector):\n",
      "C:\\Users\\logan\\anaconda3\\Lib\\site-packages\\seaborn\\_oldcore.py:1498: FutureWarning: is_categorical_dtype is deprecated and will be removed in a future version. Use isinstance(dtype, CategoricalDtype) instead\n",
      "  if pd.api.types.is_categorical_dtype(vector):\n"
     ]
    },
    {
     "data": {
      "image/png": "[encoded data removed]",
      "text/plain": [
       "<Figure size 640x480 with 1 Axes>"
      ]
     },
     "metadata": {},
     "output_type": "display_data"
    }
   ],
   "source": [
    "#creating scatterplot\n",
    "df_price = sns.scatterplot(x = 'prices', y = 'prices',data = df)"
   ]
  },
  {
   "cell_type": "code",
   "execution_count": 14,
   "id": "a9e9d1c9",
   "metadata": {},
   "outputs": [],
   "source": [
    "df_price.figure.savefig(os.path.join(path, '04 Analysis','Visualizations', 'df_price.png'))"
   ]
  },
  {
   "cell_type": "code",
   "execution_count": 15,
   "id": "7040068c",
   "metadata": {},
   "outputs": [],
   "source": [
    "#creating 70/30 subset\n",
    "np.random.seed(4)\n",
    "dev = np.random.rand(len(df)) <= 0.7"
   ]
  },
  {
   "cell_type": "code",
   "execution_count": 16,
   "id": "e7dbd019",
   "metadata": {},
   "outputs": [],
   "source": [
    "big = df[dev]\n",
    "small = df[~dev]"
   ]
  },
  {
   "cell_type": "code",
   "execution_count": 17,
   "id": "495ac647",
   "metadata": {},
   "outputs": [
    {
     "data": {
      "text/plain": [
       "32434212"
      ]
     },
     "execution_count": 17,
     "metadata": {},
     "output_type": "execute_result"
    }
   ],
   "source": [
    "#checking subset\n",
    "len(df)"
   ]
  },
  {
   "cell_type": "code",
   "execution_count": 18,
   "id": "9a5f213c",
   "metadata": {},
   "outputs": [
    {
     "data": {
      "text/plain": [
       "32434212"
      ]
     },
     "execution_count": 18,
     "metadata": {},
     "output_type": "execute_result"
    }
   ],
   "source": [
    "len(big) + len(small)"
   ]
  },
  {
   "cell_type": "code",
   "execution_count": 19,
   "id": "ba403c0f",
   "metadata": {},
   "outputs": [],
   "source": [
    "#creating subset for prices\n",
    "df_2 = small[['orders_day_of_week','prices']]"
   ]
  },
  {
   "cell_type": "code",
   "execution_count": 20,
   "id": "8c584bee",
   "metadata": {},
   "outputs": [
    {
     "name": "stderr",
     "output_type": "stream",
     "text": [
      "C:\\Users\\logan\\anaconda3\\Lib\\site-packages\\seaborn\\_oldcore.py:1498: FutureWarning: is_categorical_dtype is deprecated and will be removed in a future version. Use isinstance(dtype, CategoricalDtype) instead\n",
      "  if pd.api.types.is_categorical_dtype(vector):\n",
      "C:\\Users\\logan\\anaconda3\\Lib\\site-packages\\seaborn\\_oldcore.py:1498: FutureWarning: is_categorical_dtype is deprecated and will be removed in a future version. Use isinstance(dtype, CategoricalDtype) instead\n",
      "  if pd.api.types.is_categorical_dtype(vector):\n",
      "C:\\Users\\logan\\anaconda3\\Lib\\site-packages\\seaborn\\_oldcore.py:1119: FutureWarning: use_inf_as_na option is deprecated and will be removed in a future version. Convert inf values to NaN before operating instead.\n",
      "  with pd.option_context('mode.use_inf_as_na', True):\n",
      "C:\\Users\\logan\\anaconda3\\Lib\\site-packages\\seaborn\\_oldcore.py:1119: FutureWarning: use_inf_as_na option is deprecated and will be removed in a future version. Convert inf values to NaN before operating instead.\n",
      "  with pd.option_context('mode.use_inf_as_na', True):\n"
     ]
    },
    {
     "data": {
      "image/png": "[encoded data removed]",
      "text/plain": [
       "<Figure size 640x480 with 1 Axes>"
      ]
     },
     "metadata": {},
     "output_type": "display_data"
    }
   ],
   "source": [
    "line_dow = sns.lineplot(data = df_2, x = 'orders_day_of_week',y = 'prices')"
   ]
  },
  {
   "cell_type": "code",
   "execution_count": 21,
   "id": "0091ff7a",
   "metadata": {},
   "outputs": [],
   "source": [
    "line_dow.figure.savefig(os.path.join(path, '04 Analysis','Visualizations', 'line_dow.png'))"
   ]
  },
  {
   "cell_type": "code",
   "execution_count": 22,
   "id": "e8b08283",
   "metadata": {},
   "outputs": [
    {
     "data": {
      "image/png": "[encoded data removed]",
      "text/plain": [
       "<Figure size 640x480 with 1 Axes>"
      ]
     },
     "metadata": {},
     "output_type": "display_data"
    }
   ],
   "source": [
    "#creating histogram\n",
    "DOW_hist = df['order_hour_of_day'].plot.hist(bins = 24)"
   ]
  },
  {
   "cell_type": "code",
   "execution_count": 23,
   "id": "f0c3f572",
   "metadata": {},
   "outputs": [],
   "source": [
    "DOW_hist.figure.savefig(os.path.join(path, '04 Analysis','Visualizations', 'DOW_hist.png'))"
   ]
  },
  {
   "cell_type": "code",
   "execution_count": 24,
   "id": "0801d918",
   "metadata": {},
   "outputs": [
    {
     "data": {
      "text/plain": [
       "order_hour_of_day\n",
       "10    2764390\n",
       "11    2738585\n",
       "14    2691563\n",
       "15    2664522\n",
       "13    2663272\n",
       "12    2620800\n",
       "16    2537469\n",
       "9     2456661\n",
       "17    2089452\n",
       "8     1719952\n",
       "18    1637922\n",
       "19    1259382\n",
       "20     977017\n",
       "7      891928\n",
       "21     796362\n",
       "22     634737\n",
       "23     402612\n",
       "6      290770\n",
       "0      218942\n",
       "1      115786\n",
       "5       88057\n",
       "2       69431\n",
       "4       53283\n",
       "3       51317\n",
       "Name: count, dtype: int64"
      ]
     },
     "execution_count": 24,
     "metadata": {},
     "output_type": "execute_result"
    }
   ],
   "source": [
    "#checking histogram\n",
    "df['order_hour_of_day'].value_counts(dropna = False)"
   ]
  },
  {
   "cell_type": "code",
   "execution_count": 25,
   "id": "4093c161",
   "metadata": {},
   "outputs": [
    {
     "data": {
      "text/plain": [
       "order_hour_of_day\n",
       "0      218942\n",
       "1      115786\n",
       "2       69431\n",
       "3       51317\n",
       "4       53283\n",
       "5       88057\n",
       "6      290770\n",
       "7      891928\n",
       "8     1719952\n",
       "9     2456661\n",
       "10    2764390\n",
       "11    2738585\n",
       "12    2620800\n",
       "13    2663272\n",
       "14    2691563\n",
       "15    2664522\n",
       "16    2537469\n",
       "17    2089452\n",
       "18    1637922\n",
       "19    1259382\n",
       "20     977017\n",
       "21     796362\n",
       "22     634737\n",
       "23     402612\n",
       "Name: count, dtype: int64"
      ]
     },
     "execution_count": 25,
     "metadata": {},
     "output_type": "execute_result"
    }
   ],
   "source": [
    "df['order_hour_of_day'].value_counts(dropna = False).sort_index()"
   ]
  },
  {
   "cell_type": "markdown",
   "id": "dae7339b",
   "metadata": {},
   "source": [
    "### This histogram shows that orders really start to ramp up at 7am, before steadily declining starting at 5pm"
   ]
  },
  {
   "cell_type": "code",
   "execution_count": 26,
   "id": "3db100ff",
   "metadata": {},
   "outputs": [
    {
     "data": {
      "image/png": "[encoded data removed]",
      "text/plain": [
       "<Figure size 640x480 with 1 Axes>"
      ]
     },
     "metadata": {},
     "output_type": "display_data"
    }
   ],
   "source": [
    "#creating bar chart\n",
    "Loyal_bar = df['loyalty_flag'].value_counts().plot.bar()"
   ]
  },
  {
   "cell_type": "code",
   "execution_count": 27,
   "id": "b1872834",
   "metadata": {},
   "outputs": [],
   "source": [
    "Loyal_bar.figure.savefig(os.path.join(path, '04 Analysis','Visualizations', 'Loyal_bar.png'))"
   ]
  },
  {
   "cell_type": "code",
   "execution_count": 28,
   "id": "1d5b8b40",
   "metadata": {},
   "outputs": [
    {
     "data": {
      "text/plain": [
       "loyalty_flag\n",
       "Regular customer    15891077\n",
       "Loyal customer      10293737\n",
       "New customer         6249398\n",
       "Name: count, dtype: int64"
      ]
     },
     "execution_count": 28,
     "metadata": {},
     "output_type": "execute_result"
    }
   ],
   "source": [
    "#checking bar chart\n",
    "df['loyalty_flag'].value_counts()"
   ]
  },
  {
   "cell_type": "code",
   "execution_count": 35,
   "id": "e3c33ac6",
   "metadata": {},
   "outputs": [
    {
     "data": {
      "text/plain": [
       "(32434212, 31)"
      ]
     },
     "execution_count": 35,
     "metadata": {},
     "output_type": "execute_result"
    }
   ],
   "source": [
    "df.shape"
   ]
  },
  {
   "cell_type": "code",
   "execution_count": 29,
   "id": "3588553e",
   "metadata": {},
   "outputs": [],
   "source": [
    "#creating subset for prices\n",
    "df_3 = small[['order_hour_of_day','prices']]"
   ]
  },
  {
   "cell_type": "code",
   "execution_count": 30,
   "id": "0c26e196",
   "metadata": {},
   "outputs": [
    {
     "name": "stderr",
     "output_type": "stream",
     "text": [
      "C:\\Users\\logan\\anaconda3\\Lib\\site-packages\\seaborn\\_oldcore.py:1498: FutureWarning: is_categorical_dtype is deprecated and will be removed in a future version. Use isinstance(dtype, CategoricalDtype) instead\n",
      "  if pd.api.types.is_categorical_dtype(vector):\n",
      "C:\\Users\\logan\\anaconda3\\Lib\\site-packages\\seaborn\\_oldcore.py:1498: FutureWarning: is_categorical_dtype is deprecated and will be removed in a future version. Use isinstance(dtype, CategoricalDtype) instead\n",
      "  if pd.api.types.is_categorical_dtype(vector):\n",
      "C:\\Users\\logan\\anaconda3\\Lib\\site-packages\\seaborn\\_oldcore.py:1119: FutureWarning: use_inf_as_na option is deprecated and will be removed in a future version. Convert inf values to NaN before operating instead.\n",
      "  with pd.option_context('mode.use_inf_as_na', True):\n",
      "C:\\Users\\logan\\anaconda3\\Lib\\site-packages\\seaborn\\_oldcore.py:1119: FutureWarning: use_inf_as_na option is deprecated and will be removed in a future version. Convert inf values to NaN before operating instead.\n",
      "  with pd.option_context('mode.use_inf_as_na', True):\n"
     ]
    },
    {
     "data": {
      "image/png": "[encoded data removed]",
      "text/plain": [
       "<Figure size 640x480 with 1 Axes>"
      ]
     },
     "metadata": {},
     "output_type": "display_data"
    }
   ],
   "source": [
    "line = sns.lineplot(data = df_3, x = 'order_hour_of_day',y = 'prices')"
   ]
  },
  {
   "cell_type": "markdown",
   "id": "c3453125",
   "metadata": {},
   "source": [
    "## Average price of item bought is higher around 3-5am, lowest around 9-10am"
   ]
  },
  {
   "cell_type": "code",
   "execution_count": 31,
   "id": "9dea4daa",
   "metadata": {},
   "outputs": [],
   "source": [
    "line.figure.savefig(os.path.join(path, '04 Analysis','Visualizations', 'line_hour_OHOD.png'))"
   ]
  },
  {
   "cell_type": "code",
   "execution_count": 32,
   "id": "853a4f5b",
   "metadata": {},
   "outputs": [],
   "source": [
    "df_age_dependents = df[['Age', 'dependents']]"
   ]
  },
  {
   "cell_type": "code",
   "execution_count": 33,
   "id": "0585c633",
   "metadata": {},
   "outputs": [
    {
     "data": {
      "text/html": [
       "<div>\n",
       "<style scoped>\n",
       "    .dataframe tbody tr th:only-of-type {\n",
       "        vertical-align: middle;\n",
       "    }\n",
       "\n",
       "    .dataframe tbody tr th {\n",
       "        vertical-align: top;\n",
       "    }\n",
       "\n",
       "    .dataframe thead th {\n",
       "        text-align: right;\n",
       "    }\n",
       "</style>\n",
       "<table border=\"1\" class=\"dataframe\">\n",
       "  <thead>\n",
       "    <tr style=\"text-align: right;\">\n",
       "      <th></th>\n",
       "      <th>Age</th>\n",
       "      <th>dependents</th>\n",
       "    </tr>\n",
       "  </thead>\n",
       "  <tbody>\n",
       "    <tr>\n",
       "      <th>0</th>\n",
       "      <td>81</td>\n",
       "      <td>1</td>\n",
       "    </tr>\n",
       "    <tr>\n",
       "      <th>1</th>\n",
       "      <td>81</td>\n",
       "      <td>1</td>\n",
       "    </tr>\n",
       "    <tr>\n",
       "      <th>2</th>\n",
       "      <td>81</td>\n",
       "      <td>1</td>\n",
       "    </tr>\n",
       "    <tr>\n",
       "      <th>3</th>\n",
       "      <td>81</td>\n",
       "      <td>1</td>\n",
       "    </tr>\n",
       "    <tr>\n",
       "      <th>4</th>\n",
       "      <td>81</td>\n",
       "      <td>1</td>\n",
       "    </tr>\n",
       "    <tr>\n",
       "      <th>...</th>\n",
       "      <td>...</td>\n",
       "      <td>...</td>\n",
       "    </tr>\n",
       "    <tr>\n",
       "      <th>32434207</th>\n",
       "      <td>45</td>\n",
       "      <td>1</td>\n",
       "    </tr>\n",
       "    <tr>\n",
       "      <th>32434208</th>\n",
       "      <td>44</td>\n",
       "      <td>3</td>\n",
       "    </tr>\n",
       "    <tr>\n",
       "      <th>32434209</th>\n",
       "      <td>44</td>\n",
       "      <td>3</td>\n",
       "    </tr>\n",
       "    <tr>\n",
       "      <th>32434210</th>\n",
       "      <td>44</td>\n",
       "      <td>3</td>\n",
       "    </tr>\n",
       "    <tr>\n",
       "      <th>32434211</th>\n",
       "      <td>44</td>\n",
       "      <td>3</td>\n",
       "    </tr>\n",
       "  </tbody>\n",
       "</table>\n",
       "<p>32434212 rows × 2 columns</p>\n",
       "</div>"
      ],
      "text/plain": [
       "          Age  dependents\n",
       "0          81           1\n",
       "1          81           1\n",
       "2          81           1\n",
       "3          81           1\n",
       "4          81           1\n",
       "...       ...         ...\n",
       "32434207   45           1\n",
       "32434208   44           3\n",
       "32434209   44           3\n",
       "32434210   44           3\n",
       "32434211   44           3\n",
       "\n",
       "[32434212 rows x 2 columns]"
      ]
     },
     "execution_count": 33,
     "metadata": {},
     "output_type": "execute_result"
    }
   ],
   "source": [
    "df_age_dependents"
   ]
  },
  {
   "cell_type": "code",
   "execution_count": 34,
   "id": "977c3819",
   "metadata": {},
   "outputs": [
    {
     "name": "stderr",
     "output_type": "stream",
     "text": [
      "C:\\Users\\logan\\anaconda3\\Lib\\site-packages\\seaborn\\_oldcore.py:1498: FutureWarning: is_categorical_dtype is deprecated and will be removed in a future version. Use isinstance(dtype, CategoricalDtype) instead\n",
      "  if pd.api.types.is_categorical_dtype(vector):\n",
      "C:\\Users\\logan\\anaconda3\\Lib\\site-packages\\seaborn\\_oldcore.py:1498: FutureWarning: is_categorical_dtype is deprecated and will be removed in a future version. Use isinstance(dtype, CategoricalDtype) instead\n",
      "  if pd.api.types.is_categorical_dtype(vector):\n",
      "C:\\Users\\logan\\anaconda3\\Lib\\site-packages\\seaborn\\_oldcore.py:1119: FutureWarning: use_inf_as_na option is deprecated and will be removed in a future version. Convert inf values to NaN before operating instead.\n",
      "  with pd.option_context('mode.use_inf_as_na', True):\n",
      "C:\\Users\\logan\\anaconda3\\Lib\\site-packages\\seaborn\\_oldcore.py:1119: FutureWarning: use_inf_as_na option is deprecated and will be removed in a future version. Convert inf values to NaN before operating instead.\n",
      "  with pd.option_context('mode.use_inf_as_na', True):\n"
     ]
    },
    {
     "ename": "KeyboardInterrupt",
     "evalue": "",
     "output_type": "error",
     "traceback": [
      "\u001b[1;31m---------------------------------------------------------------------------\u001b[0m",
      "\u001b[1;31mKeyboardInterrupt\u001b[0m                         Traceback (most recent call last)",
      "Cell \u001b[1;32mIn[34], line 1\u001b[0m\n\u001b[1;32m----> 1\u001b[0m line \u001b[38;5;241m=\u001b[39m sns\u001b[38;5;241m.\u001b[39mlineplot(data \u001b[38;5;241m=\u001b[39m df_age_dependents, x \u001b[38;5;241m=\u001b[39m \u001b[38;5;124m'\u001b[39m\u001b[38;5;124mAge\u001b[39m\u001b[38;5;124m'\u001b[39m,y \u001b[38;5;241m=\u001b[39m \u001b[38;5;124m'\u001b[39m\u001b[38;5;124mdependents\u001b[39m\u001b[38;5;124m'\u001b[39m)\n",
      "File \u001b[1;32m~\\anaconda3\\Lib\\site-packages\\seaborn\\relational.py:645\u001b[0m, in \u001b[0;36mlineplot\u001b[1;34m(data, x, y, hue, size, style, units, palette, hue_order, hue_norm, sizes, size_order, size_norm, dashes, markers, style_order, estimator, errorbar, n_boot, seed, orient, sort, err_style, err_kws, legend, ci, ax, **kwargs)\u001b[0m\n\u001b[0;32m    642\u001b[0m color \u001b[38;5;241m=\u001b[39m kwargs\u001b[38;5;241m.\u001b[39mpop(\u001b[38;5;124m\"\u001b[39m\u001b[38;5;124mcolor\u001b[39m\u001b[38;5;124m\"\u001b[39m, kwargs\u001b[38;5;241m.\u001b[39mpop(\u001b[38;5;124m\"\u001b[39m\u001b[38;5;124mc\u001b[39m\u001b[38;5;124m\"\u001b[39m, \u001b[38;5;28;01mNone\u001b[39;00m))\n\u001b[0;32m    643\u001b[0m kwargs[\u001b[38;5;124m\"\u001b[39m\u001b[38;5;124mcolor\u001b[39m\u001b[38;5;124m\"\u001b[39m] \u001b[38;5;241m=\u001b[39m _default_color(ax\u001b[38;5;241m.\u001b[39mplot, hue, color, kwargs)\n\u001b[1;32m--> 645\u001b[0m p\u001b[38;5;241m.\u001b[39mplot(ax, kwargs)\n\u001b[0;32m    646\u001b[0m \u001b[38;5;28;01mreturn\u001b[39;00m ax\n",
      "File \u001b[1;32m~\\anaconda3\\Lib\\site-packages\\seaborn\\relational.py:441\u001b[0m, in \u001b[0;36m_LinePlotter.plot\u001b[1;34m(self, ax, kws)\u001b[0m\n\u001b[0;32m    438\u001b[0m     grouped \u001b[38;5;241m=\u001b[39m sub_data\u001b[38;5;241m.\u001b[39mgroupby(orient, sort\u001b[38;5;241m=\u001b[39m\u001b[38;5;28mself\u001b[39m\u001b[38;5;241m.\u001b[39msort)\n\u001b[0;32m    439\u001b[0m     \u001b[38;5;66;03m# Could pass as_index=False instead of reset_index,\u001b[39;00m\n\u001b[0;32m    440\u001b[0m     \u001b[38;5;66;03m# but that fails on a corner case with older pandas.\u001b[39;00m\n\u001b[1;32m--> 441\u001b[0m     sub_data \u001b[38;5;241m=\u001b[39m grouped\u001b[38;5;241m.\u001b[39mapply(agg, other)\u001b[38;5;241m.\u001b[39mreset_index()\n\u001b[0;32m    442\u001b[0m \u001b[38;5;28;01melse\u001b[39;00m:\n\u001b[0;32m    443\u001b[0m     sub_data[\u001b[38;5;124mf\u001b[39m\u001b[38;5;124m\"\u001b[39m\u001b[38;5;132;01m{\u001b[39;00mother\u001b[38;5;132;01m}\u001b[39;00m\u001b[38;5;124mmin\u001b[39m\u001b[38;5;124m\"\u001b[39m] \u001b[38;5;241m=\u001b[39m np\u001b[38;5;241m.\u001b[39mnan\n",
      "File \u001b[1;32m~\\anaconda3\\Lib\\site-packages\\pandas\\core\\groupby\\groupby.py:1766\u001b[0m, in \u001b[0;36mGroupBy.apply\u001b[1;34m(self, func, *args, **kwargs)\u001b[0m\n\u001b[0;32m   1764\u001b[0m \u001b[38;5;28;01mwith\u001b[39;00m option_context(\u001b[38;5;124m\"\u001b[39m\u001b[38;5;124mmode.chained_assignment\u001b[39m\u001b[38;5;124m\"\u001b[39m, \u001b[38;5;28;01mNone\u001b[39;00m):\n\u001b[0;32m   1765\u001b[0m     \u001b[38;5;28;01mtry\u001b[39;00m:\n\u001b[1;32m-> 1766\u001b[0m         result \u001b[38;5;241m=\u001b[39m \u001b[38;5;28mself\u001b[39m\u001b[38;5;241m.\u001b[39m_python_apply_general(f, \u001b[38;5;28mself\u001b[39m\u001b[38;5;241m.\u001b[39m_selected_obj)\n\u001b[0;32m   1767\u001b[0m     \u001b[38;5;28;01mexcept\u001b[39;00m \u001b[38;5;167;01mTypeError\u001b[39;00m:\n\u001b[0;32m   1768\u001b[0m         \u001b[38;5;66;03m# gh-20949\u001b[39;00m\n\u001b[0;32m   1769\u001b[0m         \u001b[38;5;66;03m# try again, with .apply acting as a filtering\u001b[39;00m\n\u001b[1;32m   (...)\u001b[0m\n\u001b[0;32m   1773\u001b[0m         \u001b[38;5;66;03m# fails on *some* columns, e.g. a numeric operation\u001b[39;00m\n\u001b[0;32m   1774\u001b[0m         \u001b[38;5;66;03m# on a string grouper column\u001b[39;00m\n\u001b[0;32m   1776\u001b[0m         \u001b[38;5;28;01mreturn\u001b[39;00m \u001b[38;5;28mself\u001b[39m\u001b[38;5;241m.\u001b[39m_python_apply_general(f, \u001b[38;5;28mself\u001b[39m\u001b[38;5;241m.\u001b[39m_obj_with_exclusions)\n",
      "File \u001b[1;32m~\\anaconda3\\Lib\\site-packages\\pandas\\core\\groupby\\groupby.py:1815\u001b[0m, in \u001b[0;36mGroupBy._python_apply_general\u001b[1;34m(self, f, data, not_indexed_same, is_transform, is_agg)\u001b[0m\n\u001b[0;32m   1780\u001b[0m \u001b[38;5;129m@final\u001b[39m\n\u001b[0;32m   1781\u001b[0m \u001b[38;5;28;01mdef\u001b[39;00m \u001b[38;5;21m_python_apply_general\u001b[39m(\n\u001b[0;32m   1782\u001b[0m     \u001b[38;5;28mself\u001b[39m,\n\u001b[1;32m   (...)\u001b[0m\n\u001b[0;32m   1787\u001b[0m     is_agg: \u001b[38;5;28mbool\u001b[39m \u001b[38;5;241m=\u001b[39m \u001b[38;5;28;01mFalse\u001b[39;00m,\n\u001b[0;32m   1788\u001b[0m ) \u001b[38;5;241m-\u001b[39m\u001b[38;5;241m>\u001b[39m NDFrameT:\n\u001b[0;32m   1789\u001b[0m \u001b[38;5;250m    \u001b[39m\u001b[38;5;124;03m\"\"\"\u001b[39;00m\n\u001b[0;32m   1790\u001b[0m \u001b[38;5;124;03m    Apply function f in python space\u001b[39;00m\n\u001b[0;32m   1791\u001b[0m \n\u001b[1;32m   (...)\u001b[0m\n\u001b[0;32m   1813\u001b[0m \u001b[38;5;124;03m        data after applying f\u001b[39;00m\n\u001b[0;32m   1814\u001b[0m \u001b[38;5;124;03m    \"\"\"\u001b[39;00m\n\u001b[1;32m-> 1815\u001b[0m     values, mutated \u001b[38;5;241m=\u001b[39m \u001b[38;5;28mself\u001b[39m\u001b[38;5;241m.\u001b[39mgrouper\u001b[38;5;241m.\u001b[39mapply_groupwise(f, data, \u001b[38;5;28mself\u001b[39m\u001b[38;5;241m.\u001b[39maxis)\n\u001b[0;32m   1816\u001b[0m     \u001b[38;5;28;01mif\u001b[39;00m not_indexed_same \u001b[38;5;129;01mis\u001b[39;00m \u001b[38;5;28;01mNone\u001b[39;00m:\n\u001b[0;32m   1817\u001b[0m         not_indexed_same \u001b[38;5;241m=\u001b[39m mutated\n",
      "File \u001b[1;32m~\\anaconda3\\Lib\\site-packages\\pandas\\core\\groupby\\ops.py:905\u001b[0m, in \u001b[0;36mBaseGrouper.apply_groupwise\u001b[1;34m(self, f, data, axis)\u001b[0m\n\u001b[0;32m    903\u001b[0m \u001b[38;5;66;03m# group might be modified\u001b[39;00m\n\u001b[0;32m    904\u001b[0m group_axes \u001b[38;5;241m=\u001b[39m group\u001b[38;5;241m.\u001b[39maxes\n\u001b[1;32m--> 905\u001b[0m res \u001b[38;5;241m=\u001b[39m f(group)\n\u001b[0;32m    906\u001b[0m \u001b[38;5;28;01mif\u001b[39;00m \u001b[38;5;129;01mnot\u001b[39;00m mutated \u001b[38;5;129;01mand\u001b[39;00m \u001b[38;5;129;01mnot\u001b[39;00m _is_indexed_like(res, group_axes, axis):\n\u001b[0;32m    907\u001b[0m     mutated \u001b[38;5;241m=\u001b[39m \u001b[38;5;28;01mTrue\u001b[39;00m\n",
      "File \u001b[1;32m~\\anaconda3\\Lib\\site-packages\\pandas\\core\\groupby\\groupby.py:1754\u001b[0m, in \u001b[0;36mGroupBy.apply.<locals>.f\u001b[1;34m(g)\u001b[0m\n\u001b[0;32m   1752\u001b[0m \u001b[38;5;129m@wraps\u001b[39m(func)\n\u001b[0;32m   1753\u001b[0m \u001b[38;5;28;01mdef\u001b[39;00m \u001b[38;5;21mf\u001b[39m(g):\n\u001b[1;32m-> 1754\u001b[0m     \u001b[38;5;28;01mreturn\u001b[39;00m func(g, \u001b[38;5;241m*\u001b[39margs, \u001b[38;5;241m*\u001b[39m\u001b[38;5;241m*\u001b[39mkwargs)\n",
      "File \u001b[1;32m~\\anaconda3\\Lib\\site-packages\\seaborn\\_statistics.py:513\u001b[0m, in \u001b[0;36mEstimateAggregator.__call__\u001b[1;34m(self, data, var)\u001b[0m\n\u001b[0;32m    511\u001b[0m \u001b[38;5;28;01melif\u001b[39;00m \u001b[38;5;28mself\u001b[39m\u001b[38;5;241m.\u001b[39merror_method \u001b[38;5;241m==\u001b[39m \u001b[38;5;124m\"\u001b[39m\u001b[38;5;124mci\u001b[39m\u001b[38;5;124m\"\u001b[39m:\n\u001b[0;32m    512\u001b[0m     units \u001b[38;5;241m=\u001b[39m data\u001b[38;5;241m.\u001b[39mget(\u001b[38;5;124m\"\u001b[39m\u001b[38;5;124munits\u001b[39m\u001b[38;5;124m\"\u001b[39m, \u001b[38;5;28;01mNone\u001b[39;00m)\n\u001b[1;32m--> 513\u001b[0m     boots \u001b[38;5;241m=\u001b[39m bootstrap(vals, units\u001b[38;5;241m=\u001b[39munits, func\u001b[38;5;241m=\u001b[39m\u001b[38;5;28mself\u001b[39m\u001b[38;5;241m.\u001b[39mestimator, \u001b[38;5;241m*\u001b[39m\u001b[38;5;241m*\u001b[39m\u001b[38;5;28mself\u001b[39m\u001b[38;5;241m.\u001b[39mboot_kws)\n\u001b[0;32m    514\u001b[0m     err_min, err_max \u001b[38;5;241m=\u001b[39m _percentile_interval(boots, \u001b[38;5;28mself\u001b[39m\u001b[38;5;241m.\u001b[39merror_level)\n\u001b[0;32m    516\u001b[0m \u001b[38;5;28;01mreturn\u001b[39;00m pd\u001b[38;5;241m.\u001b[39mSeries({var: estimate, \u001b[38;5;124mf\u001b[39m\u001b[38;5;124m\"\u001b[39m\u001b[38;5;132;01m{\u001b[39;00mvar\u001b[38;5;132;01m}\u001b[39;00m\u001b[38;5;124mmin\u001b[39m\u001b[38;5;124m\"\u001b[39m: err_min, \u001b[38;5;124mf\u001b[39m\u001b[38;5;124m\"\u001b[39m\u001b[38;5;132;01m{\u001b[39;00mvar\u001b[38;5;132;01m}\u001b[39;00m\u001b[38;5;124mmax\u001b[39m\u001b[38;5;124m\"\u001b[39m: err_max})\n",
      "File \u001b[1;32m~\\anaconda3\\Lib\\site-packages\\seaborn\\algorithms.py:97\u001b[0m, in \u001b[0;36mbootstrap\u001b[1;34m(*args, **kwargs)\u001b[0m\n\u001b[0;32m     95\u001b[0m \u001b[38;5;28;01mfor\u001b[39;00m i \u001b[38;5;129;01min\u001b[39;00m \u001b[38;5;28mrange\u001b[39m(\u001b[38;5;28mint\u001b[39m(n_boot)):\n\u001b[0;32m     96\u001b[0m     resampler \u001b[38;5;241m=\u001b[39m integers(\u001b[38;5;241m0\u001b[39m, n, n, dtype\u001b[38;5;241m=\u001b[39mnp\u001b[38;5;241m.\u001b[39mintp)  \u001b[38;5;66;03m# intp is indexing dtype\u001b[39;00m\n\u001b[1;32m---> 97\u001b[0m     sample \u001b[38;5;241m=\u001b[39m [a\u001b[38;5;241m.\u001b[39mtake(resampler, axis\u001b[38;5;241m=\u001b[39m\u001b[38;5;241m0\u001b[39m) \u001b[38;5;28;01mfor\u001b[39;00m a \u001b[38;5;129;01min\u001b[39;00m args]\n\u001b[0;32m     98\u001b[0m     boot_dist\u001b[38;5;241m.\u001b[39mappend(f(\u001b[38;5;241m*\u001b[39msample, \u001b[38;5;241m*\u001b[39m\u001b[38;5;241m*\u001b[39mfunc_kwargs))\n\u001b[0;32m     99\u001b[0m \u001b[38;5;28;01mreturn\u001b[39;00m np\u001b[38;5;241m.\u001b[39marray(boot_dist)\n",
      "File \u001b[1;32m~\\anaconda3\\Lib\\site-packages\\seaborn\\algorithms.py:97\u001b[0m, in \u001b[0;36m<listcomp>\u001b[1;34m(.0)\u001b[0m\n\u001b[0;32m     95\u001b[0m \u001b[38;5;28;01mfor\u001b[39;00m i \u001b[38;5;129;01min\u001b[39;00m \u001b[38;5;28mrange\u001b[39m(\u001b[38;5;28mint\u001b[39m(n_boot)):\n\u001b[0;32m     96\u001b[0m     resampler \u001b[38;5;241m=\u001b[39m integers(\u001b[38;5;241m0\u001b[39m, n, n, dtype\u001b[38;5;241m=\u001b[39mnp\u001b[38;5;241m.\u001b[39mintp)  \u001b[38;5;66;03m# intp is indexing dtype\u001b[39;00m\n\u001b[1;32m---> 97\u001b[0m     sample \u001b[38;5;241m=\u001b[39m [a\u001b[38;5;241m.\u001b[39mtake(resampler, axis\u001b[38;5;241m=\u001b[39m\u001b[38;5;241m0\u001b[39m) \u001b[38;5;28;01mfor\u001b[39;00m a \u001b[38;5;129;01min\u001b[39;00m args]\n\u001b[0;32m     98\u001b[0m     boot_dist\u001b[38;5;241m.\u001b[39mappend(f(\u001b[38;5;241m*\u001b[39msample, \u001b[38;5;241m*\u001b[39m\u001b[38;5;241m*\u001b[39mfunc_kwargs))\n\u001b[0;32m     99\u001b[0m \u001b[38;5;28;01mreturn\u001b[39;00m np\u001b[38;5;241m.\u001b[39marray(boot_dist)\n",
      "\u001b[1;31mKeyboardInterrupt\u001b[0m: "
     ]
    },
    {
     "data": {
      "image/png": "[encoded data removed]",
      "text/plain": [
       "<Figure size 640x480 with 1 Axes>"
      ]
     },
     "metadata": {},
     "output_type": "display_data"
    }
   ],
   "source": [
    "line = sns.lineplot(data = df_age_dependents, x = 'Age',y = 'dependents')"
   ]
  },
  {
   "cell_type": "code",
   "execution_count": null,
   "id": "d9edc2b5",
   "metadata": {},
   "outputs": [],
   "source": [
    "line.figure.savefig(os.path.join(path, '04 Analysis','Visualizations', 'age_dependents_line.png'))"
   ]
  },
  {
   "cell_type": "markdown",
   "id": "b97af229",
   "metadata": {},
   "source": [
    "### There is no correlation between age and dependents"
   ]
  },
  {
   "cell_type": "code",
   "execution_count": null,
   "id": "aa5dc567",
   "metadata": {},
   "outputs": [],
   "source": [
    "df_age_fam = df[['Age', 'fam_status']]"
   ]
  },
  {
   "cell_type": "code",
   "execution_count": null,
   "id": "8162b0e7",
   "metadata": {},
   "outputs": [],
   "source": [
    "# Create a bar chart\n",
    "count_fam_status_by_age = df_age_fam.groupby(['Age', 'fam_status']).size().unstack().plot(kind='bar', stacked=True)\n",
    "\n",
    "# Add labels and a title\n",
    "plt.xlabel('Age')\n",
    "plt.ylabel('Count')\n",
    "plt.title('Count of Fam Status by Age')\n",
    "\n",
    "# Display the plot\n",
    "plt.show()"
   ]
  },
  {
   "cell_type": "code",
   "execution_count": null,
   "id": "d6ea9084",
   "metadata": {
    "scrolled": true
   },
   "outputs": [],
   "source": [
    "df_age_fam[['fam_status']].value_counts()"
   ]
  },
  {
   "cell_type": "code",
   "execution_count": null,
   "id": "d995158c",
   "metadata": {},
   "outputs": [],
   "source": [
    "count_fam_status_by_age.figure.savefig(os.path.join(path, '04 Analysis','Visualizations', 'count_fam_status_by_age.png'))"
   ]
  },
  {
   "cell_type": "markdown",
   "id": "6ec4f12a",
   "metadata": {},
   "source": [
    "### this gives us a breakdown of family status by age. We see no one over the age of 21 lives with parents, but a amjority of users ages 18-21 do... and the majority of all users are married."
   ]
  },
  {
   "cell_type": "code",
   "execution_count": null,
   "id": "c48fe79e",
   "metadata": {},
   "outputs": [],
   "source": [
    "#creating scatterplot\n",
    "age_income_scatter = sns.scatterplot(x = 'Age', y = 'income', data = df)"
   ]
  },
  {
   "cell_type": "code",
   "execution_count": null,
   "id": "b1507516",
   "metadata": {},
   "outputs": [],
   "source": [
    "age_income_scatter.figure.savefig(os.path.join(path, '04 Analysis','Visualizations', 'age_income_scatter.png'))"
   ]
  },
  {
   "cell_type": "markdown",
   "id": "2a4f1bd6",
   "metadata": {},
   "source": [
    "### Incomes see a jump past the age of 40, you can see how many more clusters there are above 20,000 and how many dots there are above 400,000"
   ]
  },
  {
   "cell_type": "code",
   "execution_count": null,
   "id": "1eefa518",
   "metadata": {},
   "outputs": [],
   "source": [
    "df.to_pickle(os.path.join(path, '02 Data', 'Prepared Data', 'merged_dataframe 4.92.pkl'))"
   ]
  },
  {
   "cell_type": "code",
   "execution_count": null,
   "id": "6ca252b1",
   "metadata": {},
   "outputs": [],
   "source": []
  }
 ],
 "metadata": {
  "kernelspec": {
   "display_name": "Python 3 (ipykernel)",
   "language": "python",
   "name": "python3"
  },
  "language_info": {
   "codemirror_mode": {
    "name": "ipython",
    "version": 3
   },
   "file_extension": ".py",
   "mimetype": "text/x-python",
   "name": "python",
   "nbconvert_exporter": "python",
   "pygments_lexer": "ipython3",
   "version": "3.11.5"
  }
 },
 "nbformat": 4,
 "nbformat_minor": 5
}
